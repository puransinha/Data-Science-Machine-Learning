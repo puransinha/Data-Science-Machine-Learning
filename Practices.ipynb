{
 "cells": [
  {
   "cell_type": "code",
   "execution_count": 4,
   "metadata": {},
   "outputs": [
    {
     "data": {
      "text/plain": [
       "4"
      ]
     },
     "execution_count": 4,
     "metadata": {},
     "output_type": "execute_result"
    }
   ],
   "source": [
    "def try1(x,y):\n",
    "    return(x**y)\n",
    "try1(2,2)\n"
   ]
  },
  {
   "cell_type": "code",
   "execution_count": 2,
   "metadata": {},
   "outputs": [
    {
     "data": {
      "text/plain": [
       "[4, 9, 16, 25]"
      ]
     },
     "execution_count": 2,
     "metadata": {},
     "output_type": "execute_result"
    }
   ],
   "source": [
    "first_str=[2,3,4,5]\n",
    "list(map(lambda x:x**2, first_str))"
   ]
  },
  {
   "cell_type": "code",
   "execution_count": 1,
   "metadata": {},
   "outputs": [
    {
     "data": {
      "text/plain": [
       "[7, 10, 15, 14]"
      ]
     },
     "execution_count": 1,
     "metadata": {},
     "output_type": "execute_result"
    }
   ],
   "source": [
    "a=[3,5,9,7]\n",
    "b=[4,5,6,7]\n",
    "list(map(lambda x,y :x+y,a,b))"
   ]
  },
  {
   "cell_type": "code",
   "execution_count": 2,
   "metadata": {},
   "outputs": [
    {
     "data": {
      "text/plain": [
       "[3, 6, 9]"
      ]
     },
     "execution_count": 2,
     "metadata": {},
     "output_type": "execute_result"
    }
   ],
   "source": [
    "lst =list(range (1,10))\n",
    "list(filter(lambda x:x%3==0,lst))\n"
   ]
  },
  {
   "cell_type": "code",
   "execution_count": 9,
   "metadata": {},
   "outputs": [
    {
     "data": {
      "text/plain": [
       "list"
      ]
     },
     "execution_count": 9,
     "metadata": {},
     "output_type": "execute_result"
    }
   ],
   "source": [
    "cube=list( range(0,25))\n",
    "#list(map(lambda x:x*2,cube))\n",
    "type (cube)"
   ]
  },
  {
   "cell_type": "code",
   "execution_count": 28,
   "metadata": {},
   "outputs": [
    {
     "name": "stdout",
     "output_type": "stream",
     "text": [
      "{'Peter': 'USA', 'Jorge': 'Australia', 'Roger': 'France'}\n"
     ]
    }
   ],
   "source": [
    "nm_loc={'Peter':'USA','Jorge':'Australia','Roger':'France'}\n",
    "print (nm_loc)\n"
   ]
  },
  {
   "cell_type": "code",
   "execution_count": 32,
   "metadata": {},
   "outputs": [
    {
     "name": "stdout",
     "output_type": "stream",
     "text": [
      "Enter correct word:quit\n",
      "quit\n"
     ]
    }
   ],
   "source": [
    "msg=''\n",
    "while msg!='quit':\n",
    "    msg=input('Enter correct word:')\n",
    "    print(msg)"
   ]
  },
  {
   "cell_type": "code",
   "execution_count": 55,
   "metadata": {},
   "outputs": [
    {
     "name": "stdout",
     "output_type": "stream",
     "text": [
      "HelloSinha!\n"
     ]
    }
   ],
   "source": [
    "def greet(happy):\n",
    "    print('Hello'+ happy+'!')\n",
    "greet('Sinha')"
   ]
  },
  {
   "cell_type": "code",
   "execution_count": 6,
   "metadata": {},
   "outputs": [
    {
     "name": "stdout",
     "output_type": "stream",
     "text": [
      "Hello\n"
     ]
    }
   ],
   "source": [
    "def greet():\n",
    "    print('Hello')\n",
    "greet()"
   ]
  },
  {
   "cell_type": "code",
   "execution_count": 165,
   "metadata": {},
   "outputs": [
    {
     "name": "stdout",
     "output_type": "stream",
     "text": [
      "Peso is a great dog!\n"
     ]
    }
   ],
   "source": [
    "class Dog():\n",
    "    \"\"\"Represent a dog.\"\"\" \n",
    "    def init(self,name): \n",
    "        \"\"\"Initialize dog object.\"\"\" \n",
    "        self.name = name\n",
    "    def sit(self): \n",
    "        \"\"\"Simulate sitting.\"\"\" \n",
    "        print(self.name + \" is sitting.\") \n",
    "        my_dog = Dog('Peso')\n",
    "    print(my_dog.name + \" is a great dog!\")\n",
    "    #my_dog.sit()"
   ]
  },
  {
   "cell_type": "code",
   "execution_count": 17,
   "metadata": {},
   "outputs": [
    {
     "name": "stdout",
     "output_type": "stream",
     "text": [
      "dict_values(['USA', '250000', '65%', ['Good', 'Average', 'Poor'], '25000PM'])\n",
      "{'City': 'USA', 'Population': '250000', 'Employement Ratio': '65%', 'Eco Condition': ['Good', 'Average', 'Poor'], 'Cost-Living': '25000PM'}\n"
     ]
    }
   ],
   "source": [
    "dt_bs={'City':'USA','Population':'250000','Employement Ratio': '65%','Eco Condition':['Good','Average','Poor'],'Cost-Living':'25000PM'}\n",
    "#ad=[]\n",
    "for k in dt_bs.items():\n",
    "    if 'USA' in k:\n",
    "        print(dt_bs.values())\n",
    "        break\n",
    "    else:\n",
    "        print('data not found')\n",
    "print(dt_bs)"
   ]
  },
  {
   "cell_type": "code",
   "execution_count": 64,
   "metadata": {},
   "outputs": [
    {
     "name": "stdout",
     "output_type": "stream",
     "text": [
      "Peso is a great dog!\n"
     ]
    }
   ],
   "source": [
    "my_dg = Dog('Peso')\n",
    "print(my_dg.name + \" is a great dog!\")\n"
   ]
  },
  {
   "cell_type": "code",
   "execution_count": 15,
   "metadata": {},
   "outputs": [
    {
     "name": "stdout",
     "output_type": "stream",
     "text": [
      "[1, 1, 2, 3]\n"
     ]
    }
   ],
   "source": [
    "a = [1, 1, 2, 3, 5, 8, 13, 21, 34, 55, 89]\n",
    "#for x in a:\n",
    "  #  if x<5:\n",
    "   #     print(x)\n",
    "    #else:\n",
    "     #   pass\n",
    "num = [x for x in a if x < 5]\n",
    "print(num)"
   ]
  },
  {
   "cell_type": "code",
   "execution_count": 26,
   "metadata": {},
   "outputs": [
    {
     "name": "stdout",
     "output_type": "stream",
     "text": [
      "enter a number6\n",
      "Value not added as input is > 5\n"
     ]
    }
   ],
   "source": [
    "a = [1, 1, 2, 3, 5, 8, 13, 21, 34, 55, 89]\n",
    "b=[]\n",
    "ipt=int(input('enter a number'))\n",
    "#for x in a:\n",
    "if ipt<5:\n",
    "    a.append(ipt)\n",
    "    print(a)\n",
    "else:\n",
    "    print('Value not added as input is > 5')\n"
   ]
  },
  {
   "cell_type": "code",
   "execution_count": 44,
   "metadata": {},
   "outputs": [
    {
     "name": "stdout",
     "output_type": "stream",
     "text": [
      "enter a number6\n",
      "[1]\n",
      "[1, 2]\n",
      "[1, 2, 3]\n",
      "[1, 2, 3, 6]\n"
     ]
    }
   ],
   "source": [
    "\n",
    "divisor_list=[]\n",
    "ipt=int(input('enter a number'))\n",
    "lst=list(range(1,ipt+1))\n",
    "\n",
    "for i in lst:\n",
    "    if ipt%i==0:\n",
    "        divisor_list.append(i)\n",
    "        print(divisor_list)"
   ]
  },
  {
   "cell_type": "code",
   "execution_count": 2,
   "metadata": {},
   "outputs": [
    {
     "data": {
      "text/plain": [
       "{1, 2, 3, 4, 5, 6, 7, 8, 9, 10, 11, 12, 13, 21, 34, 55, 89}"
      ]
     },
     "execution_count": 2,
     "metadata": {},
     "output_type": "execute_result"
    }
   ],
   "source": [
    "a = {1, 1, 2, 3, 5, 8, 13, 21, 34, 55, 89}\n",
    "b = {1, 2, 3, 4, 5, 6, 7, 8, 9, 10, 11, 12, 13}\n",
    "a.union(b)\n",
    "#write a program that returns a list that contains only the elements that are common between the lists (without duplicates).\n",
    "#Make sure your program works on two lists of different sizes.\n",
    "#list1 = a.sample(range(1,100),10)\n",
    "#list2 = random.sample(range(1,1000),15)\n",
    "\n",
    "#list_overlap = [x for x in list1 if x in list2 ]\n",
    "#print(list_overlap)"
   ]
  },
  {
   "cell_type": "code",
   "execution_count": 28,
   "metadata": {},
   "outputs": [
    {
     "name": "stdout",
     "output_type": "stream",
     "text": [
      "Enter a wordwer\n",
      "false\n"
     ]
    }
   ],
   "source": [
    "\n",
    "ipt=input(\"Enter a word\")\n",
    "if ipt[::-1]==ipt:\n",
    "    print('Tru')\n",
    "else:\n",
    "    print('false')"
   ]
  },
  {
   "cell_type": "code",
   "execution_count": 43,
   "metadata": {},
   "outputs": [
    {
     "name": "stdout",
     "output_type": "stream",
     "text": [
      "[4, 16, 36, 64, 100]\n"
     ]
    }
   ],
   "source": [
    "a = [1, 4, 9, 16, 25, 36, 49, 64, 81, 100]\n",
    "b=[el for el in a if el%2==0]\n",
    "print(b)\n"
   ]
  },
  {
   "cell_type": "code",
   "execution_count": 51,
   "metadata": {},
   "outputs": [
    {
     "name": "stdout",
     "output_type": "stream",
     "text": [
      "First Playerq\n",
      "Second Playerw\n",
      "q, Choose rock, Paper or Scissorrock\n",
      "w, Choose rock, Paper or Scissorpaper\n",
      "paper wins\n"
     ]
    }
   ],
   "source": [
    "x=input('First Player')\n",
    "y=input('Second Player')\n",
    "x_ans=input('%s, Choose rock, Paper or Scissor' %x)\n",
    "y_ans=input('%s, Choose rock, Paper or Scissor' %y)\n",
    "def compare(x1,y1):\n",
    "    if x1==y1:\n",
    "        return('tie')\n",
    "    elif x1=='rock':\n",
    "        if y1=='scissor':\n",
    "            return ('rock wins')\n",
    "        else:\n",
    "            return('paper wins')\n",
    "    elif x1=='scissor':\n",
    "        if y1=='paper':\n",
    "            return('scissor wins')\n",
    "        else:\n",
    "            return('rock wins')\n",
    "    else:\n",
    "        return('invalid')\n",
    "    \n",
    "print(compare(x_ans,y_ans))\n",
    "        \n"
   ]
  },
  {
   "cell_type": "code",
   "execution_count": 6,
   "metadata": {},
   "outputs": [
    {
     "name": "stdout",
     "output_type": "stream",
     "text": [
      "First Playera\n",
      "Second Players\n",
      "a, Choose rock, Paper or Scissorrock\n",
      "s, Choose rock, Paper or Scissorpaper\n",
      "paper wins\n",
      "rock paper\n"
     ]
    }
   ],
   "source": [
    "x=input('First Player')\n",
    "y=input('Second Player')\n",
    "x1=input('%s, Choose rock, Paper or Scissor' %x)\n",
    "y1=input('%s, Choose rock, Paper or Scissor' %y)\n",
    "if x1==y1:\n",
    "    print('tie')\n",
    "elif x1=='rock':\n",
    "    if y1=='scissor':\n",
    "        print ('rock wins')\n",
    "    else:\n",
    "        print('paper wins')\n",
    "elif x1=='scissor':\n",
    "    if y1=='paper':\n",
    "        print('scissor wins')\n",
    "    else:\n",
    "        print('rock wins')\n",
    "else:\n",
    "    print('invalid')\n",
    "print(x1,y1)"
   ]
  },
  {
   "cell_type": "code",
   "execution_count": null,
   "metadata": {},
   "outputs": [],
   "source": [
    "x=input('First Player')\n",
    "y=input('Second Player')\n",
    "x1=input('%s, Choose rock, Paper or Scissor' %x)\n",
    "y1=input('%s, Choose rock, Paper or Scissor' %y)\n",
    "\n",
    "while True:\n",
    "    if x1==y1:\n",
    "        print('tie')\n",
    "    elif x1=='rock':\n",
    "        if y1=='scissor':\n",
    "            print ('rock wins')\n",
    "        else:\n",
    "            print('paper wins')\n",
    "    elif x1=='scissor':\n",
    "        if y1=='paper':\n",
    "            print('scissor wins')\n",
    "        else:\n",
    "            print('rock wins')\n",
    "    else:\n",
    "        print('invalid')\n",
    "    break\n",
    "continue"
   ]
  },
  {
   "cell_type": "code",
   "execution_count": 1,
   "metadata": {},
   "outputs": [
    {
     "name": "stdout",
     "output_type": "stream",
     "text": [
      "{1: 1, 2: 4, 3: 9, 4: 16, 5: 25, 6: 36, 7: 49, 8: 64}\n"
     ]
    }
   ],
   "source": [
    "n={i:i**2 for i in range(1,9)}\n",
    "print(n)"
   ]
  },
  {
   "cell_type": "code",
   "execution_count": 1,
   "metadata": {},
   "outputs": [
    {
     "name": "stdout",
     "output_type": "stream",
     "text": [
      "[34, 67, 55, 33, 12, 98]\n"
     ]
    }
   ],
   "source": [
    "a=[]\n",
    "b=()\n",
    "x=[34,67,55,33,12,98]\n",
    "\n",
    "print (x)\n",
    "#opt={a,b for list[a] in a}"
   ]
  },
  {
   "cell_type": "code",
   "execution_count": 9,
   "metadata": {},
   "outputs": [
    {
     "name": "stdout",
     "output_type": "stream",
     "text": [
      "{0: 0, 5: 125, 10: 1000, 15: 3375, 20: 8000, 25: 15625}\n"
     ]
    },
    {
     "data": {
      "text/plain": [
       "dict"
      ]
     },
     "execution_count": 9,
     "metadata": {},
     "output_type": "execute_result"
    }
   ],
   "source": [
    "n={i:i**3 for i in range(0,30) if i%5==0}\n",
    "print (n)\n",
    "type(n)"
   ]
  },
  {
   "cell_type": "code",
   "execution_count": 190,
   "metadata": {},
   "outputs": [
    {
     "name": "stdout",
     "output_type": "stream",
     "text": [
      "[0, 5, 10, 15, 20, 25]\n"
     ]
    }
   ],
   "source": [
    "n=[]\n",
    "for i in range(0,30):\n",
    "    if i%5==0:\n",
    "        n.append(i)\n",
    "    else:\n",
    "        pass\n",
    "print (n)"
   ]
  },
  {
   "cell_type": "code",
   "execution_count": 13,
   "metadata": {},
   "outputs": [
    {
     "data": {
      "text/plain": [
       "True"
      ]
     },
     "execution_count": 13,
     "metadata": {},
     "output_type": "execute_result"
    }
   ],
   "source": [
    "bool({1})"
   ]
  },
  {
   "cell_type": "code",
   "execution_count": 24,
   "metadata": {},
   "outputs": [
    {
     "data": {
      "text/plain": [
       "['sunil', 'anil', 'lisa', 'mukesh', 'saurabh', 'dhiraj', 'anil']"
      ]
     },
     "execution_count": 24,
     "metadata": {},
     "output_type": "execute_result"
    }
   ],
   "source": [
    "epty_list=['sunil','anil', 'lisa']\n",
    "epty_list.append('mukesh')\n",
    "epty_list.extend(['saurabh', 'dhiraj', 'anil'])\n",
    "len(epty_list)\n",
    "epty_list.count('anil')\n",
    "epty_list\n"
   ]
  },
  {
   "cell_type": "code",
   "execution_count": 34,
   "metadata": {},
   "outputs": [
    {
     "data": {
      "text/plain": [
       "['Friday', 'Monday', 'Saturday', 'Sunday', 'Thursday', 'Tuesday', 'Wednesday']"
      ]
     },
     "execution_count": 34,
     "metadata": {},
     "output_type": "execute_result"
    }
   ],
   "source": [
    "weekdays=['Monday', 'Tuesday', 'Wednesday', 'Thursday', 'Friday', 'Saturday', 'Sunday']\n",
    "weekdays[0:5:2]\n",
    "list(reversed(weekdays))\n",
    "weekdays.sort()\n",
    "\n",
    "sorted(weekdays)"
   ]
  },
  {
   "cell_type": "code",
   "execution_count": 40,
   "metadata": {},
   "outputs": [
    {
     "data": {
      "text/plain": [
       "(0, 1, 'Two', 3, 4)"
      ]
     },
     "execution_count": 40,
     "metadata": {},
     "output_type": "execute_result"
    }
   ],
   "source": [
    "digit=tuple([0,1,'Two'])\n",
    "digit=digit+(3,4)\n",
    "digit"
   ]
  },
  {
   "cell_type": "code",
   "execution_count": 92,
   "metadata": {},
   "outputs": [
    {
     "name": "stdout",
     "output_type": "stream",
     "text": [
      "dad Service\n",
      "Mom Housewife\n",
      "Kids School\n",
      "data not found\n",
      "Found\n"
     ]
    }
   ],
   "source": [
    "family={'dad':'Service', 'Mom':'Housewife','Kids':'School'}\n",
    "family.keys()\n",
    "family.values()\n",
    "family.items()\n",
    "family['Kids']\n",
    "'Kids' in family\n",
    "family.keys() is 'Kids'\n",
    "for key, value in family.items():\n",
    "    print(key,value)\n",
    "for key,value in family.items():\n",
    "    if key=='Mom':\n",
    "        print('Found')\n",
    "        break\n",
    "    else:\n",
    "        print('data not found')"
   ]
  },
  {
   "cell_type": "code",
   "execution_count": 120,
   "metadata": {},
   "outputs": [
    {
     "data": {
      "text/plain": [
       "121"
      ]
     },
     "execution_count": 120,
     "metadata": {},
     "output_type": "execute_result"
    }
   ],
   "source": [
    "def power(x,power=2):\n",
    "    return x**power\n",
    "power(11)"
   ]
  },
  {
   "cell_type": "code",
   "execution_count": 115,
   "metadata": {},
   "outputs": [
    {
     "name": "stdout",
     "output_type": "stream",
     "text": [
      "enter no\" 123\n"
     ]
    },
    {
     "data": {
      "text/plain": [
       "1860867"
      ]
     },
     "execution_count": 115,
     "metadata": {},
     "output_type": "execute_result"
    }
   ],
   "source": [
    "y=int(input('enter no\" '))\n",
    "def cube(x,cube=3):\n",
    "    return(x**cube)\n",
    "cube(y)"
   ]
  },
  {
   "cell_type": "code",
   "execution_count": 123,
   "metadata": {},
   "outputs": [
    {
     "data": {
      "text/plain": [
       "[1, 8, 27, 64, 125]"
      ]
     },
     "execution_count": 123,
     "metadata": {},
     "output_type": "execute_result"
    }
   ],
   "source": [
    "num=[1,2,3,4,5]\n",
    "cubes=[]\n",
    "for n in num:\n",
    "    cubes.append(n**3)\n",
    "cubes"
   ]
  },
  {
   "cell_type": "code",
   "execution_count": 129,
   "metadata": {},
   "outputs": [
    {
     "data": {
      "text/plain": [
       "[1, 8, 27, 64, 125]"
      ]
     },
     "execution_count": 129,
     "metadata": {},
     "output_type": "execute_result"
    }
   ],
   "source": [
    "cubes=[n**3 for n in num]\n",
    "cubes"
   ]
  },
  {
   "cell_type": "code",
   "execution_count": 135,
   "metadata": {},
   "outputs": [
    {
     "data": {
      "text/plain": [
       "[1, 2, 3, 4]"
      ]
     },
     "execution_count": 135,
     "metadata": {},
     "output_type": "execute_result"
    }
   ],
   "source": [
    "matrix = [[1, 2], [3, 4]]\n",
    "items = []\n",
    "for row in matrix:\n",
    "    for item in row:\n",
    "        items.append(item)\n",
    "items"
   ]
  },
  {
   "cell_type": "code",
   "execution_count": 137,
   "metadata": {},
   "outputs": [
    {
     "name": "stdout",
     "output_type": "stream",
     "text": [
      "C:\\Users\\Puran Prakash Sinha\\Desktop\\Data Science\\Python\n"
     ]
    }
   ],
   "source": [
    "import os\n",
    "cwd = os.getcwd()\n",
    "print(cwd)"
   ]
  },
  {
   "cell_type": "code",
   "execution_count": 34,
   "metadata": {},
   "outputs": [
    {
     "name": "stdout",
     "output_type": "stream",
     "text": [
      "7\n"
     ]
    }
   ],
   "source": [
    "#How to get the range\n",
    "s=[6,2,4,5,7,4,7,8,3,9]\n",
    "r=max(s)-min(s)\n",
    "print (r)"
   ]
  },
  {
   "cell_type": "code",
   "execution_count": 92,
   "metadata": {},
   "outputs": [
    {
     "name": "stdout",
     "output_type": "stream",
     "text": [
      "5.5\n"
     ]
    }
   ],
   "source": [
    "#How to get the Median\n",
    "s=[6,2,4,5,7,4,7,8,3,9]\n",
    "def med (s):\n",
    "    mid= len(s) // 2\n",
    "    if len(s)%2==1:\n",
    "        return sorted(s)[mid]\n",
    "    else:\n",
    "        return 0.5* sum(sorted(s)[mid-1:mid+1])\n",
    "#print(med ([2,3,5,2,3]))\n",
    "print(med(s))"
   ]
  },
  {
   "cell_type": "code",
   "execution_count": 106,
   "metadata": {},
   "outputs": [
    {
     "name": "stdout",
     "output_type": "stream",
     "text": [
      "27.5\n"
     ]
    }
   ],
   "source": [
    "#How to get the Mean\n",
    "s=[6,2,4,5,7,4,7,8,3,9]\n",
    "print(sum(s)/2)"
   ]
  },
  {
   "cell_type": "code",
   "execution_count": 186,
   "metadata": {},
   "outputs": [],
   "source": [
    "# How to get the mode\n",
    "#(): for i in mode: if i in d: d[i] += 1 else: d[i] = 1\n",
    "s=[6,2,4,5,7,4,7,8,3,9]\n",
    "def md(s):\n",
    "    for i in md:\n",
    "        if i in s:\n",
    "            #s[i]+=1\n",
    "            i=i+1\n",
    "        else:\n",
    "            #s[i]=1\n",
    "            i=1\n",
    "        return md\n",
    "    md(s)"
   ]
  },
  {
   "cell_type": "code",
   "execution_count": 105,
   "metadata": {},
   "outputs": [
    {
     "name": "stdout",
     "output_type": "stream",
     "text": [
      "8.0\n",
      "[-7.0, -5.0, -3.0, -1.0, 1.0, 3.0, 5.0, 7.0]\n",
      "[21.0, 15.0, 12.0, 14.0, 7.0, 12.0, 15.0, 28.0]\n",
      "2.9523809523809526\n"
     ]
    }
   ],
   "source": [
    "# how to calculate Mean deviation (mean = fi * xi / fi), MD = fi|xi-mean/fi\n",
    "x=[1,3,5,7,9,11,13,15]\n",
    "f=[3,3,4,14,7,4,3,4]\n",
    "up=list(map(lambda a,b :a*b,x,f))\n",
    "dn=list(map(lambda b :b,f))\n",
    "mean=sum(up)/sum(dn)\n",
    "\n",
    "yy=[]\n",
    "xi=list(map(lambda a:a-mean,x))\n",
    "yy.append(xi)\n",
    "\n",
    "p=list(map(lambda a,b :a*b,f,xi))\n",
    "#using predefined function for converting -ve to positives\n",
    "for i in range(len(p)):\n",
    "    p[i]=abs(p[i])\n",
    "\n",
    "print (mean)  ## calculated Mean\n",
    "print(xi)\n",
    "print(p) # Calculated fi * xi\n",
    "print((sum(p)/(sum(dn)))) # Mean Deviation"
   ]
  },
  {
   "cell_type": "code",
   "execution_count": 128,
   "metadata": {},
   "outputs": [
    {
     "data": {
      "image/png": "[encoded data removed]",
      "text/plain": [
       "<Figure size 432x288 with 1 Axes>"
      ]
     },
     "metadata": {
      "needs_background": "light"
     },
     "output_type": "display_data"
    }
   ],
   "source": [
    "import matplotlib.pyplot as plt\n",
    "x=[1,3,5,7,9,11,13,15]\n",
    "f=[3,3,4,14,7,4,3,4]\n",
    "plt.bar(x,f)\n",
    "\n",
    "plt.show(x,f)\n"
   ]
  },
  {
   "cell_type": "code",
   "execution_count": 80,
   "metadata": {},
   "outputs": [
    {
     "name": "stdout",
     "output_type": "stream",
     "text": [
      "[2, 4, 3]\n"
     ]
    }
   ],
   "source": [
    "y=[-2,-4,3]\n",
    "for i in range (len(y)):\n",
    "    y[i]=abs(y[i])\n",
    "print(y)"
   ]
  },
  {
   "cell_type": "code",
   "execution_count": 3,
   "metadata": {},
   "outputs": [
    {
     "data": {
      "text/plain": [
       "[3, 6, 4, 7]"
      ]
     },
     "execution_count": 3,
     "metadata": {},
     "output_type": "execute_result"
    }
   ],
   "source": [
    "ci={4:8, 8:12, 12:16, 16:20}\n",
    "fr=[3,6,4,7]\n",
    "fr[::]\n",
    "#ci_val=[value/2 for value in ci.values()]\n",
    "fr"
   ]
  },
  {
   "cell_type": "code",
   "execution_count": 13,
   "metadata": {},
   "outputs": [
    {
     "name": "stdout",
     "output_type": "stream",
     "text": [
      "(3, 5)\n"
     ]
    }
   ],
   "source": [
    "x=(5,3)\n",
    "x[0]\n",
    "print(x[::-1])"
   ]
  },
  {
   "cell_type": "code",
   "execution_count": 182,
   "metadata": {},
   "outputs": [
    {
     "name": "stdout",
     "output_type": "stream",
     "text": [
      "*\n",
      "**\n",
      "***\n",
      "****\n",
      "*****\n",
      "******\n",
      "******\n",
      "******\n",
      "******\n",
      "******\n"
     ]
    }
   ],
   "source": [
    "x=''\n",
    "for i in range(0,10):\n",
    "    x+='*'\n",
    "    print(x[0:6])"
   ]
  },
  {
   "cell_type": "code",
   "execution_count": 191,
   "metadata": {},
   "outputs": [
    {
     "name": "stdout",
     "output_type": "stream",
     "text": [
      "* * * * * * * * * * \n",
      "* * * * * * * * * * \n",
      "* * * * * * * * * * \n",
      "* * * * * * * * * * \n",
      "*\n",
      "*\n",
      "*\n",
      "*\n",
      "*\n",
      "*\n"
     ]
    }
   ],
   "source": [
    "x=''\n",
    "for i in range(0,10):\n",
    "    if i<=7:\n",
    "        x='*'*1\n",
    "        if i<1 and i>5:\n",
    "            x='* '+9*'* '\n",
    "               \n",
    "        elif i<4:\n",
    "             x='* '*10\n",
    "    print(x)"
   ]
  }
 ],
 "metadata": {
  "kernelspec": {
   "display_name": "Python 3",
   "language": "python",
   "name": "python3"
  },
  "language_info": {
   "codemirror_mode": {
    "name": "ipython",
    "version": 3
   },
   "file_extension": ".py",
   "mimetype": "text/x-python",
   "name": "python",
   "nbconvert_exporter": "python",
   "pygments_lexer": "ipython3",
   "version": "3.7.3"
  }
 },
 "nbformat": 4,
 "nbformat_minor": 4
}
