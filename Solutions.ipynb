{
 "cells": [
  {
   "cell_type": "code",
   "execution_count": 72,
   "metadata": {},
   "outputs": [
    {
     "name": "stdout",
     "output_type": "stream",
     "text": [
      "Median of the set is 3.5\n"
     ]
    }
   ],
   "source": [
    "set1 = [1, 3, 3, 4, 5, 7]\n",
    "print (\"Median of the set is % s\" \n",
    "      % (statistics.median(set1)))"
   ]
  },
  {
   "cell_type": "code",
   "execution_count": 75,
   "metadata": {},
   "outputs": [
    {
     "name": "stdout",
     "output_type": "stream",
     "text": [
      "Mean of the set is 3.8333333333333335\n"
     ]
    }
   ],
   "source": [
    "set1 = [1, 3, 3, 4, 5, 7]\n",
    "print('Mean of the set is % s' %(statistics.mean(set1)))"
   ]
  },
  {
   "cell_type": "code",
   "execution_count": 76,
   "metadata": {},
   "outputs": [
    {
     "name": "stdout",
     "output_type": "stream",
     "text": [
      "Mode of the set is 3\n"
     ]
    }
   ],
   "source": [
    "set1 = [1, 3, 3, 4, 5, 7]\n",
    "print('Mode of the set is % s' %(statistics.mode(set1)))"
   ]
  },
  {
   "cell_type": "code",
   "execution_count": 79,
   "metadata": {},
   "outputs": [
    {
     "name": "stdout",
     "output_type": "stream",
     "text": [
      "Var of the set is 4.166666666666667\n"
     ]
    }
   ],
   "source": [
    "set1 = [1, 3, 3, 4, 5, 7]\n",
    "print (\"Var of the set is % s\"%(statistics.variance(set1))) "
   ]
  },
  {
   "cell_type": "code",
   "execution_count": 81,
   "metadata": {},
   "outputs": [
    {
     "name": "stdout",
     "output_type": "stream",
     "text": [
      "SD of the set is 2.041241452319315\n"
     ]
    }
   ],
   "source": [
    "set1 = [1, 3, 3, 4, 5, 7]\n",
    "print ('SD of the set is % s' %(statistics.stdev(set1)))"
   ]
  },
  {
   "cell_type": "code",
   "execution_count": null,
   "metadata": {},
   "outputs": [],
   "source": [
    "#Write a program which will find all such numbers which are divisible by 7 but are not a multiple of 5,\n",
    "#between 2000 and 3200 (both included).The numbers obtained should be printed in a comma-separated sequence on a single line."
   ]
  },
  {
   "cell_type": "code",
   "execution_count": 1,
   "metadata": {},
   "outputs": [
    {
     "name": "stdout",
     "output_type": "stream",
     "text": [
      "{'2093', '2303', '2051', '2891', '2996', '2744', '2702', '2296', '2737', '2688', '2499', '2359', '2163', '2009', '2408', '2324', '2597', '2114', '2261', '2779', '2513', '2723', '2149', '2828', '2926', '2604', '2268', '2198', '2212', '2478', '2373', '2751', '2079', '2121', '2639', '2387', '2982', '2863', '2226', '2569', '2037', '2282', '2352', '2443', '2681', '2023', '2576', '2884', '2184', '2219', '2233', '2562', '2331', '2618', '2849', '2611', '2772', '2128', '2898', '2653', '2506', '2716', '2436', '2842', '2877', '2583', '2856', '2527', '2044', '2401', '2156', '2107', '2191', '2394', '2632', '2338', '2471', '2289', '2072', '2002', '2912', '2317', '2807', '2793', '2646', '2492', '2254', '2058', '2989', '2758', '2422', '2709', '2667', '2814', '2968', '2961', '2016', '2534', '2821', '2548', '2429', '2247', '2366', '2786', '2464', '2541', '2933', '2457', '2919', '2674', '2086', '2947', '2954', '2142', '2177'}\n"
     ]
    }
   ],
   "source": [
    "#sol:1\n",
    "import matplotlib.pyplot as plt\n",
    "import scipy\n",
    "import numpy\n",
    "import statistics\n",
    "\n",
    "num={str(i) for i in range(2000, 3000) if i%7==0 and i%5!=0}\n",
    "print(num)"
   ]
  },
  {
   "cell_type": "code",
   "execution_count": 51,
   "metadata": {},
   "outputs": [
    {
     "data": {
      "text/plain": [
       "45"
      ]
     },
     "execution_count": 51,
     "metadata": {},
     "output_type": "execute_result"
    }
   ],
   "source": [
    "x=32\n",
    "y=45\n",
    "z=34\n",
    "def max_no(x,y,z):\n",
    "    if x>y:\n",
    "        if x>z:\n",
    "            max_no= x\n",
    "        else:\n",
    "            max_no=z\n",
    "    elif y>z:\n",
    "        max_no= y\n",
    "    else:\n",
    "        max_no=z\n",
    "    return max_no\n",
    "max_no(x,y,z)\n"
   ]
  },
  {
   "cell_type": "code",
   "execution_count": 40,
   "metadata": {},
   "outputs": [
    {
     "name": "stdout",
     "output_type": "stream",
     "text": [
      "Max value is : 64\n"
     ]
    },
    {
     "data": {
      "text/plain": [
       "<function __main__.maxfunction(a, b, c)>"
      ]
     },
     "execution_count": 40,
     "metadata": {},
     "output_type": "execute_result"
    }
   ],
   "source": [
    "a=44\n",
    "b=64\n",
    "c=24\n",
    "def maxfunction(a,b,c):\n",
    "   \n",
    "    if (a > b) and (a > c):\n",
    "        print ('Max value is :',a)\n",
    "    elif (b > a) and (b > c):\n",
    "        print ('Max value is :',b)\n",
    "    elif (c > a) and (c > b):\n",
    "        print ('Max value is :',c)\n",
    "    return maxfunction\n",
    "maxfunction(a,b,c)\n",
    "            "
   ]
  },
  {
   "cell_type": "code",
   "execution_count": 93,
   "metadata": {},
   "outputs": [
    {
     "name": "stdout",
     "output_type": "stream",
     "text": [
      "6\n",
      "-210\n"
     ]
    }
   ],
   "source": [
    "print(sum({1,2,3}))\n",
    "def multiply(numbers):\n",
    "    total = 1\n",
    "    for x in numbers:\n",
    "        total = x*total\n",
    "    return total\n",
    "print(multiply((5,2, 3, -1, 7)))"
   ]
  },
  {
   "cell_type": "code",
   "execution_count": 96,
   "metadata": {},
   "outputs": [
    {
     "name": "stdout",
     "output_type": "stream",
     "text": [
      "dcba4321\n"
     ]
    }
   ],
   "source": [
    "x=\"1234abcd\"\n",
    "print(x[::-1])"
   ]
  },
  {
   "cell_type": "code",
   "execution_count": 122,
   "metadata": {},
   "outputs": [
    {
     "name": "stdout",
     "output_type": "stream",
     "text": [
      "[2002, 2009, 2016, 2023, 2037, 2044, 2051, 2058, 2072, 2079, 2086, 2093, 2107, 2114, 2121, 2128, 2142, 2149, 2156, 2163, 2177, 2184, 2191, 2198, 2212, 2219, 2226, 2233, 2247, 2254, 2261, 2268, 2282, 2289, 2296, 2303, 2317, 2324, 2331, 2338, 2352, 2359, 2366, 2373, 2387, 2394, 2401, 2408, 2422, 2429, 2436, 2443, 2457, 2464, 2471, 2478, 2492, 2499, 2506, 2513, 2527, 2534, 2541, 2548, 2562, 2569, 2576, 2583, 2597, 2604, 2611, 2618, 2632, 2639, 2646, 2653, 2667, 2674, 2681, 2688, 2702, 2709, 2716, 2723, 2737, 2744, 2751, 2758, 2772, 2779, 2786, 2793, 2807, 2814, 2821, 2828, 2842, 2849, 2856, 2863, 2877, 2884, 2891, 2898, 2912, 2919, 2926, 2933, 2947, 2954, 2961, 2968, 2982, 2989, 2996]\n"
     ]
    }
   ],
   "source": [
    "#Question:\n",
    "#Write a program which will find all such numbers which are divisible by 7 but are not a multiple of 5,\n",
    "#between 2000 and 3200 (both included).\n",
    "#The numbers obtained should be printed in a comma-separated sequence on a single line.\n",
    "\n",
    "num =[x for x in range(2000,3000) if x%7==0 and x%5!=0]\n",
    "    #if x%7==0:\n",
    "print(num)\n",
    "#print (x)\n",
    "#x=(i for i in x if (x%7==0))\n",
    "#print (x)"
   ]
  },
  {
   "cell_type": "code",
   "execution_count": 58,
   "metadata": {},
   "outputs": [
    {
     "name": "stdout",
     "output_type": "stream",
     "text": [
      "{3, 6}\n"
     ]
    }
   ],
   "source": [
    "num=[1,2,3,4,5,6,7]\n",
    "num1={i for i in num if i%3==0}\n",
    "print(num1)"
   ]
  },
  {
   "cell_type": "code",
   "execution_count": 86,
   "metadata": {},
   "outputs": [
    {
     "name": "stdout",
     "output_type": "stream",
     "text": [
      "Enter the wordlol\n",
      "true\n"
     ]
    }
   ],
   "source": [
    "x=input('Enter the word')\n",
    "if x[::-1].strip() == x.strip():\n",
    "    print ('true')\n",
    "else:\n",
    "    print('false')\n",
    "\n",
    "    "
   ]
  },
  {
   "cell_type": "code",
   "execution_count": 10,
   "metadata": {},
   "outputs": [
    {
     "name": "stdout",
     "output_type": "stream",
     "text": [
      "Enter the wordlol\n",
      "true\n"
     ]
    },
    {
     "data": {
      "text/plain": [
       "<function __main__.palin(string)>"
      ]
     },
     "execution_count": 10,
     "metadata": {},
     "output_type": "execute_result"
    }
   ],
   "source": [
    "x=input('Enter the word')\n",
    "def palin (string):\n",
    "    if x[::-1].strip() == x.strip():\n",
    "        print ('true')\n",
    "    else:\n",
    "        print('false')\n",
    "    return palin\n",
    "palin(x)"
   ]
  },
  {
   "cell_type": "code",
   "execution_count": 79,
   "metadata": {},
   "outputs": [
    {
     "data": {
      "text/plain": [
       "<function __main__.num(n)>"
      ]
     },
     "execution_count": 79,
     "metadata": {},
     "output_type": "execute_result"
    }
   ],
   "source": [
    "def num(n):\n",
    "    for n in range (20,30):\n",
    "        c=['tot']\n",
    "        if (n%7==0):\n",
    "            n+=1\n",
    "        else:\n",
    "            pass\n",
    "    return num\n",
    "num"
   ]
  },
  {
   "cell_type": "code",
   "execution_count": 63,
   "metadata": {},
   "outputs": [
    {
     "name": "stdout",
     "output_type": "stream",
     "text": [
      "{1, 2, 3, 4, 5}\n"
     ]
    }
   ],
   "source": [
    "x=[1,2,3,3,3,3,4,5]\n",
    "print(set(x))"
   ]
  },
  {
   "cell_type": "code",
   "execution_count": 9,
   "metadata": {},
   "outputs": [
    {
     "name": "stdout",
     "output_type": "stream",
     "text": [
      "Enter a total Possibilities Number:5\n",
      "Enter the probability to choose:  2\n",
      "<function fact at 0x000001EFEB22DC80>\n"
     ]
    }
   ],
   "source": [
    "x=int(input('Enter a total Possibilities Number:'))\n",
    "y=int(input('Enter the probability to choose:  '))\n",
    "def fact(x):\n",
    "    if x==0:\n",
    "        return 1\n",
    "    else:\n",
    "        return x*fact(x-1)\n",
    "def fact(y):\n",
    "    if y==0:\n",
    "        return 1\n",
    "    else:\n",
    "        return (y*fact(y-1))(x-y)\n",
    "    return fact(y)\n",
    "print (fact)"
   ]
  },
  {
   "cell_type": "code",
   "execution_count": 87,
   "metadata": {},
   "outputs": [
    {
     "name": "stdout",
     "output_type": "stream",
     "text": [
      "Enter a total Possibilities Number:5\n",
      "Enter the probability to choose:  3\n",
      "10.0\n"
     ]
    }
   ],
   "source": [
    "n=int(input('Enter a total Possibilities Number:'))\n",
    "r=int(input('Enter the probability to choose:  '))\n",
    "from functools import lru_cache\n",
    "\n",
    "#@lru_cache()\n",
    "def factorial(n):\n",
    "    return 1 if n in (1, 0) else n * factorial(n-1)\n",
    "\n",
    "def ncr(n, k):\n",
    "    return factorial(n) / (factorial(k) * factorial(n - k))\n",
    "\n",
    "print(ncr(n,r))"
   ]
  },
  {
   "cell_type": "code",
   "execution_count": 27,
   "metadata": {},
   "outputs": [
    {
     "name": "stdout",
     "output_type": "stream",
     "text": [
      "Enter a Number:4\n",
      "24.0\n"
     ]
    }
   ],
   "source": [
    "x=float(input('Enter a Number:'))\n",
    "def fact(x):\n",
    "    if x==0:\n",
    "        return 1\n",
    "    else:\n",
    "        return x*fact(x-1)\n",
    "print (fact(x))"
   ]
  },
  {
   "cell_type": "code",
   "execution_count": 30,
   "metadata": {},
   "outputs": [
    {
     "name": "stdout",
     "output_type": "stream",
     "text": [
      "True\n"
     ]
    }
   ],
   "source": [
    "x=\"1234abcd\"\n",
    "print ('1' in x)"
   ]
  },
  {
   "cell_type": "code",
   "execution_count": 1,
   "metadata": {
    "scrolled": true
   },
   "outputs": [
    {
     "name": "stdout",
     "output_type": "stream",
     "text": [
      "['2002', '2009', '2016', '2023', '2037', '2044', '2051', '2058', '2072', '2079', '2086', '2093', '2107', '2114', '2121', '2128', '2142', '2149', '2156', '2163', '2177', '2184', '2191', '2198', '2212', '2219', '2226', '2233', '2247', '2254', '2261', '2268', '2282', '2289', '2296', '2303', '2317', '2324', '2331', '2338', '2352', '2359', '2366', '2373', '2387', '2394', '2401', '2408', '2422', '2429', '2436', '2443', '2457', '2464', '2471', '2478', '2492', '2499', '2506', '2513', '2527', '2534', '2541', '2548', '2562', '2569', '2576', '2583', '2597', '2604', '2611', '2618', '2632', '2639', '2646', '2653', '2667', '2674', '2681', '2688', '2702', '2709', '2716', '2723', '2737', '2744', '2751', '2758', '2772', '2779', '2786', '2793', '2807', '2814', '2821', '2828', '2842', '2849', '2856', '2863', '2877', '2884', '2891', '2898', '2912', '2919', '2926', '2933', '2947', '2954', '2961', '2968', '2982', '2989', '2996']\n"
     ]
    }
   ],
   "source": [
    "l=[]\n",
    "for i in range(2000, 3000):\n",
    "    if (i%7==0) and (i%5!=0):\n",
    "        l.append(str(i))\n",
    "print (l)"
   ]
  },
  {
   "cell_type": "code",
   "execution_count": 5,
   "metadata": {},
   "outputs": [
    {
     "data": {
      "text/plain": [
       "[0, 1, 8, 27, 64, 125, 216, 343, 512, 729, 1000]"
      ]
     },
     "execution_count": 5,
     "metadata": {},
     "output_type": "execute_result"
    }
   ],
   "source": [
    "x_vals = list(range(11))\n",
    "squares = [x**2 for x in x_vals]\n",
    "cubes = [x**3 for x in x_vals]\n",
    "cubes"
   ]
  },
  {
   "cell_type": "code",
   "execution_count": null,
   "metadata": {},
   "outputs": [],
   "source": [
    "#Write a program which can compute the factorial of a given numbers.\n",
    "#The results should be printed in a comma-separated sequence on a single line.\n",
    "#Suppose the following input is supplied to the program:8\n",
    "#Then, the output should be:40320"
   ]
  },
  {
   "cell_type": "code",
   "execution_count": 25,
   "metadata": {},
   "outputs": [
    {
     "name": "stdout",
     "output_type": "stream",
     "text": [
      "Enter a Number:4\n",
      "24\n"
     ]
    }
   ],
   "source": [
    "#sol:2\n",
    "raw_input=int(input('Enter a Number:'))\n",
    "def fact(s):\n",
    "    if s == 0:\n",
    "        return 1\n",
    "    else:\n",
    "        return s * fact(s - 1)\n",
    "    \n",
    "print(fact(raw_input))"
   ]
  },
  {
   "cell_type": "code",
   "execution_count": 82,
   "metadata": {},
   "outputs": [
    {
     "name": "stdout",
     "output_type": "stream",
     "text": [
      "{0: 0, 1: 1, 2: 4, 3: 9, 4: 16, 5: 25, 6: 36, 7: 49, 8: 64}\n"
     ]
    }
   ],
   "source": [
    "#Question:\n",
    "#With a given integral number n, write a program to generate a dictionary that contains (i, i*i) such that is an integral number between 1 and n (both included). and then the program should print the dictionary.\n",
    "#Suppose the following input is supplied to the program:8\n",
    "#Then, the output should be:\n",
    "#{1: 1, 2: 4, 3: 9, 4: 16, 5: 25, 6: 36, 7: 49, 8: 64}\n",
    "\n",
    "#sol:\n",
    "num={i:i**2 for i in range (0,9)}\n",
    "print (num)"
   ]
  },
  {
   "cell_type": "code",
   "execution_count": null,
   "metadata": {},
   "outputs": [],
   "source": [
    "#Question:\n",
    "#Write a program which accepts a sequence of comma-separated numbers from console and generate a list and a tuple which contains every number.\n",
    "#Suppose the following input is supplied to the program:\n",
    "#34,67,55,33,12,98\n",
    "#Then, the output should be:\n",
    "#['34', '67', '55', '33', '12', '98']\n",
    "#('34', '67', '55', '33', '12', '98')"
   ]
  },
  {
   "cell_type": "code",
   "execution_count": 43,
   "metadata": {},
   "outputs": [
    {
     "name": "stdout",
     "output_type": "stream",
     "text": [
      "[34, 67, 55, 55, 33, 12, 98]\n",
      "(34, 67, 55, 55, 33, 12, 98)\n",
      "50.57142857142857\n",
      "55\n",
      "55.0\n"
     ]
    }
   ],
   "source": [
    "#Sol:\n",
    "values = (34,67,55,55,33,12,98)\n",
    "#values=str(values)\n",
    "l=list(values)\n",
    "t=tuple(values)\n",
    "print (l)\n",
    "print (t)\n",
    "mean1=numpy.mean(values)\n",
    "median1=numpy.median(values)\n",
    "print(mean1)\n",
    "mode1=statistics.mode(values)\n",
    "mode1\n",
    "print (mode1)\n",
    "print(median1)"
   ]
  },
  {
   "cell_type": "code",
   "execution_count": null,
   "metadata": {},
   "outputs": [],
   "source": [
    "#Question:\n",
    "#Define a class which has at least two methods:\n",
    "#getString: to get a string from console input\n",
    "#printString: to print the string in upper case.\n",
    "#Also please include simple test function to test the class methods.\n"
   ]
  },
  {
   "cell_type": "code",
   "execution_count": 85,
   "metadata": {},
   "outputs": [
    {
     "name": "stdin",
     "output_type": "stream",
     "text": [
      "enter value: Hello\n"
     ]
    },
    {
     "name": "stdout",
     "output_type": "stream",
     "text": [
      "Hello\n"
     ]
    }
   ],
   "source": [
    "getstr=str(input('enter value:'))\n",
    "def cl (m1,m2):\n",
    "    \n",
    "    return(getstr)\n",
    "print(getstr)"
   ]
  },
  {
   "cell_type": "code",
   "execution_count": null,
   "metadata": {},
   "outputs": [],
   "source": [
    "#Question:\n",
    "#Write a program that calculates and prints the value according to the given formula:\n",
    "#Q = Square root of [(2 * C * D)/H]\n",
    "#Following are the fixed values of C and H:\n",
    "#C is 50. H is 30.\n",
    "#D is the variable whose values should be input to your program in a comma-separated sequence.\n",
    "#Example\n",
    "#Let us assume the following comma separated input sequence is given to the program:\n",
    "#100,150,180\n",
    "#The output of the program should be:\n",
    "#18,22,24"
   ]
  },
  {
   "cell_type": "code",
   "execution_count": null,
   "metadata": {},
   "outputs": [],
   "source": [
    "#Sol:\n",
    "import math\n",
    "raw_input=(100,150,180)\n",
    "c=50\n",
    "h=30\n",
    "value = []\n",
    "#items=[x for x in raw_input]\n",
    "for d in items:\n",
    "    value.append(str(int(round(math.sqrt(2*c*float(d)/h)))))\n",
    "\n",
    "print (','.join(value))"
   ]
  },
  {
   "cell_type": "code",
   "execution_count": null,
   "metadata": {},
   "outputs": [],
   "source": [
    "#Question:\n",
    "#Write a program which takes 2 digits, X,Y as input and generates a 2-dimensional array. The element value in the i-th row and j-th column of the array should be i*j.\n",
    "#Note: i=0,1.., X-1; j=0,1,¡¬Y-1.\n",
    "#Example\n",
    "#Suppose the following inputs are given to the program:3,5\n",
    "#Then, the output of the program should be:\n",
    "#[[0, 0, 0, 0, 0], [0, 1, 2, 3, 4], [0, 2, 4, 6, 8]] "
   ]
  },
  {
   "cell_type": "code",
   "execution_count": null,
   "metadata": {},
   "outputs": [],
   "source": [
    "#sol:\n",
    "\n",
    "input_str = (3,5)\n",
    "dimensions=[int(x) for x in input_str]\n",
    "rowNum=dimensions[0]\n",
    "colNum=dimensions[1]\n",
    "multilist = [[0 for col in range(colNum)] for row in range(rowNum)]\n",
    "\n",
    "for row in range(rowNum):\n",
    "    for col in range(colNum):\n",
    "        multilist[row][col]= row*col\n",
    "\n",
    "print (multilist)"
   ]
  },
  {
   "cell_type": "code",
   "execution_count": 56,
   "metadata": {},
   "outputs": [
    {
     "ename": "TypeError",
     "evalue": "count() takes exactly one argument (0 given)",
     "output_type": "error",
     "traceback": [
      "\u001b[1;31m---------------------------------------------------------------------------\u001b[0m",
      "\u001b[1;31mTypeError\u001b[0m                                 Traceback (most recent call last)",
      "\u001b[1;32m<ipython-input-56-c07a7592bb54>\u001b[0m in \u001b[0;36m<module>\u001b[1;34m\u001b[0m\n\u001b[0;32m      1\u001b[0m \u001b[0minpt\u001b[0m\u001b[1;33m=\u001b[0m\u001b[0mlist\u001b[0m\u001b[1;33m(\u001b[0m\u001b[1;34m'without,hello,bag,world'\u001b[0m\u001b[1;33m)\u001b[0m\u001b[1;33m\u001b[0m\u001b[1;33m\u001b[0m\u001b[0m\n\u001b[1;32m----> 2\u001b[1;33m \u001b[0minpt\u001b[0m\u001b[1;33m.\u001b[0m\u001b[0mcount\u001b[0m\u001b[1;33m(\u001b[0m\u001b[1;33m)\u001b[0m\u001b[1;33m\u001b[0m\u001b[1;33m\u001b[0m\u001b[0m\n\u001b[0m\u001b[0;32m      3\u001b[0m \u001b[1;31m#str(inpt.sort)\u001b[0m\u001b[1;33m\u001b[0m\u001b[1;33m\u001b[0m\u001b[1;33m\u001b[0m\u001b[0m\n\u001b[0;32m      4\u001b[0m \u001b[0minpt\u001b[0m\u001b[1;33m\u001b[0m\u001b[1;33m\u001b[0m\u001b[0m\n\u001b[0;32m      5\u001b[0m \u001b[1;31m#for i in inpt:\u001b[0m\u001b[1;33m\u001b[0m\u001b[1;33m\u001b[0m\u001b[1;33m\u001b[0m\u001b[0m\n",
      "\u001b[1;31mTypeError\u001b[0m: count() takes exactly one argument (0 given)"
     ]
    }
   ],
   "source": [
    "inpt=list('without,hello,bag,world')\n",
    "inpt.count\n",
    "#str(inpt.sort)\n",
    "inpt\n",
    "#for i in inpt:\n",
    " #   i=1\n",
    "  #  i=i+1\n",
    "#print(str(inpt))"
   ]
  },
  {
   "cell_type": "code",
   "execution_count": null,
   "metadata": {},
   "outputs": [],
   "source": [
    "#Question:\n",
    "#Please write a program which accepts a string from console and print the characters that have even indexes.\n",
    "#Example:\n",
    "#If the following string is given as input to the program:\n",
    "#H1e2l3l4o5w6o7r8l9d\n",
    "#Then, the output of the program should be:\n",
    "#Helloworld"
   ]
  },
  {
   "cell_type": "code",
   "execution_count": 179,
   "metadata": {},
   "outputs": [
    {
     "name": "stdout",
     "output_type": "stream",
     "text": [
      "['Helloworld']\n",
      "Helloworld\n"
     ]
    }
   ],
   "source": [
    "x=['H1e2l3l4o5w6o7r8l9d']\n",
    "y=[i[::2] for i in x]\n",
    "print(y)\n",
    "\n",
    "for i in x:\n",
    "    x=i[::2]\n",
    "    print (x)"
   ]
  },
  {
   "cell_type": "code",
   "execution_count": 91,
   "metadata": {},
   "outputs": [
    {
     "name": "stdout",
     "output_type": "stream",
     "text": [
      "ris etov ot esir\n"
     ]
    }
   ],
   "source": [
    "p=('rise to vote sir')\n",
    "print ((p[::-1]))"
   ]
  },
  {
   "cell_type": "code",
   "execution_count": 189,
   "metadata": {},
   "outputs": [
    {
     "name": "stdout",
     "output_type": "stream",
     "text": [
      "[['a', 1], ['b', 1], ['c', 1], ['d', 1], ['e', 1], ['f', 1], ['g', 1], ['a', 1], ['b', 1], ['c', 1]]\n"
     ]
    }
   ],
   "source": [
    "s=('abcdefgabc')\n",
    "x=[[i, s.count(s)] for i in (s)]\n",
    "print(x)\n"
   ]
  },
  {
   "cell_type": "code",
   "execution_count": 183,
   "metadata": {},
   "outputs": [
    {
     "name": "stdout",
     "output_type": "stream",
     "text": [
      "a 2\n",
      "b 2\n",
      "c 2\n",
      "d 1\n",
      "e 1\n",
      "f 1\n",
      "g 1\n",
      "a 2\n",
      "b 2\n",
      "c 2\n"
     ]
    }
   ],
   "source": [
    "lst=('abcdefgabc')\n",
    "for i in lst:\n",
    "    lst.count(i)\n",
    "    print(i,(lst.count(i)))\n"
   ]
  },
  {
   "cell_type": "code",
   "execution_count": 205,
   "metadata": {},
   "outputs": [
    {
     "data": {
      "text/plain": [
       "[12, 24, 35, 70, 120]"
      ]
     },
     "execution_count": 205,
     "metadata": {},
     "output_type": "execute_result"
    }
   ],
   "source": [
    "l=[12,24,35,70,88,120,155]\n",
    "l.pop(4) and l.pop(5)\n",
    "l"
   ]
  },
  {
   "cell_type": "code",
   "execution_count": 210,
   "metadata": {},
   "outputs": [
    {
     "name": "stdout",
     "output_type": "stream",
     "text": [
      "{45, 77, 5}\n"
     ]
    }
   ],
   "source": [
    "d=[5,6,77,45,22,12,24]\n",
    "d={i for i in d if i%2!=0}\n",
    "print(d)"
   ]
  },
  {
   "cell_type": "code",
   "execution_count": 133,
   "metadata": {},
   "outputs": [
    {
     "data": {
      "text/plain": [
       "{12, 24, 88}"
      ]
     },
     "execution_count": 133,
     "metadata": {},
     "output_type": "execute_result"
    }
   ],
   "source": [
    "d=[12,24,35,70,88,120,155]\n",
    "d={i for i in d if i%5!=0 and i%7!=0}\n",
    "d"
   ]
  },
  {
   "cell_type": "code",
   "execution_count": null,
   "metadata": {},
   "outputs": [],
   "source": [
    "sub= [\"I\", \"You\"]\n",
    "verb [\"Play\", \"Love\"]\n",
    "obct [\"Hockey\",\"Football\"]\n"
   ]
  },
  {
   "cell_type": "code",
   "execution_count": 139,
   "metadata": {},
   "outputs": [
    {
     "name": "stdout",
     "output_type": "stream",
     "text": [
      "32.85271089723416\n"
     ]
    }
   ],
   "source": [
    "random=[0,1]\n",
    "import random\n",
    "print (random.random()*100)\n",
    "#print (x.shuffle[sf])"
   ]
  },
  {
   "cell_type": "code",
   "execution_count": 14,
   "metadata": {},
   "outputs": [
    {
     "name": "stdout",
     "output_type": "stream",
     "text": [
      "1.5\n"
     ]
    }
   ],
   "source": [
    "x=2\n",
    "y=3\n",
    "\n",
    "print(float(y/x))\n"
   ]
  },
  {
   "cell_type": "code",
   "execution_count": null,
   "metadata": {},
   "outputs": [],
   "source": [
    "#Question:\n",
    "\n",
    "#Please write a program which accepts a string from console and print it in reverse order.\n",
    "#Example:\n",
    "#If the following string is given as input to the program:\n",
    "#rise to vote sir\n",
    "#Then, the output of the program should be:\n",
    "#ris etov ot esir"
   ]
  },
  {
   "cell_type": "code",
   "execution_count": 60,
   "metadata": {},
   "outputs": [
    {
     "name": "stdout",
     "output_type": "stream",
     "text": [
      "[1, 3, 5, 7, 9]\n"
     ]
    },
    {
     "data": {
      "image/png": "[encoded data removed]",
      "text/plain": [
       "<Figure size 432x288 with 1 Axes>"
      ]
     },
     "metadata": {
      "needs_background": "light"
     },
     "output_type": "display_data"
    }
   ],
   "source": [
    "x=(1,2,3,4,5,6,7,8,9)\n",
    "y=[i for i in x if int(i)%2!=0]\n",
    "print(y)\n",
    "\n",
    "plt.hist(y)\n",
    "plt.show()"
   ]
  },
  {
   "cell_type": "code",
   "execution_count": 184,
   "metadata": {},
   "outputs": [
    {
     "name": "stdout",
     "output_type": "stream",
     "text": [
      "HELLO WORLD\n",
      "hello world\n"
     ]
    }
   ],
   "source": [
    "x=('Hello World')\n",
    "y=x.upper()\n",
    "z=x.lower()\n",
    "print (y)\n",
    "print (z)"
   ]
  },
  {
   "cell_type": "code",
   "execution_count": 9,
   "metadata": {},
   "outputs": [
    {
     "name": "stdout",
     "output_type": "stream",
     "text": [
      "u 0\n",
      "l 0\n"
     ]
    }
   ],
   "source": [
    "x=('Hello World')\n",
    "d={'u':0, 'l':0}\n",
    "for i in x:\n",
    "    if x.isupper():\n",
    "        d=['u']+1\n",
    "    elif x.islower():\n",
    "        d=[l]+1\n",
    "    else:\n",
    "        pass\n",
    "print('u',d['u'])\n",
    "print('l',d['l'])"
   ]
  },
  {
   "cell_type": "code",
   "execution_count": 6,
   "metadata": {},
   "outputs": [
    {
     "name": "stdout",
     "output_type": "stream",
     "text": [
      "{1, 65, 5, 7, 8, 9, 25}\n"
     ]
    }
   ],
   "source": [
    "x=[1,5,7,8,9,25,25,65]\n",
    "print(set(x))"
   ]
  },
  {
   "cell_type": "code",
   "execution_count": 61,
   "metadata": {},
   "outputs": [
    {
     "name": "stdout",
     "output_type": "stream",
     "text": [
      "['a', 'b', 'c', 'd', 'e', 'f', 'g', 'a', 'b', 'c', ' ', 'd', 'e', 'a', 'r']\n",
      "0\n",
      "[' ', 'a', 'a', 'a', 'b', 'b', 'c', 'c', 'd', 'd', 'e', 'e', 'f', 'g', 'r']\n"
     ]
    }
   ],
   "source": [
    "x=list('abcdefgabc dear')\n",
    "print(x)\n",
    "x.sort()\n",
    "x.count(x)\n",
    "print(x.count(x))\n",
    "#y=x.split(x)\n",
    "#def try1(x):\n",
    " #   print (x.split())\n",
    "  #  try1()\n",
    "#print(x.count(x))\n",
    "print(x)\n",
    "#i=x.split()\n",
    "#print (i)\n",
    "#print ((x.split()))\n",
    "#print(x)\n",
    "#print(set(x))\n",
    "#for i in x.split():\n",
    "    \n",
    "   # m=x.count(i)\n",
    "    #print (max(i),m)\n",
    "   # print (min(i),m)\n",
    "    \n",
    "    #print(i.split())\n",
    "    \n",
    "    "
   ]
  },
  {
   "cell_type": "code",
   "execution_count": 2,
   "metadata": {},
   "outputs": [
    {
     "name": "stdout",
     "output_type": "stream",
     "text": [
      "{35, 12, 155, 24, 88, 120}\n",
      "[155, 120, 88, 155, 120, 88, 24, 35, 24, 12]\n"
     ]
    }
   ],
   "source": [
    "x=[12,24,35,24,88,120,155,88,120,155]\n",
    "print (set(x))\n",
    "x.reverse()\n",
    "print (x)"
   ]
  },
  {
   "cell_type": "code",
   "execution_count": 14,
   "metadata": {},
   "outputs": [
    {
     "name": "stdout",
     "output_type": "stream",
     "text": [
      "{35}\n"
     ]
    },
    {
     "data": {
      "text/plain": [
       "{1, 3, 6, 12, 24, 35, 55, 78, 88, 120, 155}"
      ]
     },
     "execution_count": 14,
     "metadata": {},
     "output_type": "execute_result"
    }
   ],
   "source": [
    "set_x=set([1,3,6,78,35,55])\n",
    "set_y= set([12,24,35,24,88,120,155])\n",
    "print (set_x.intersection(set_y))\n",
    "set_x.union(set_y)"
   ]
  },
  {
   "cell_type": "code",
   "execution_count": 131,
   "metadata": {},
   "outputs": [
    {
     "name": "stdout",
     "output_type": "stream",
     "text": [
      "T\n",
      "h\n",
      "i\n",
      "s\n",
      " \n",
      "i\n",
      "s\n",
      " \n",
      "m\n",
      "y\n",
      " \n",
      "f\n",
      "i\n",
      "r\n",
      "s\n",
      "t\n",
      " \n",
      "s\n",
      "t\n",
      "r\n",
      "i\n",
      "n\n",
      "g\n",
      " \n",
      "i\n",
      "t\n",
      "e\n",
      "r\n",
      "a\n",
      "t\n",
      "i\n",
      "o\n",
      "n\n",
      "!\n",
      "!\n"
     ]
    }
   ],
   "source": [
    "string_a = (\"This is my first string iteration!!\")\n",
    "for char in string_a:\n",
    "    print(char)"
   ]
  },
  {
   "cell_type": "code",
   "execution_count": 112,
   "metadata": {},
   "outputs": [
    {
     "name": "stdout",
     "output_type": "stream",
     "text": [
      "This\n",
      "is\n",
      "my\n",
      "first\n",
      "string\n",
      "iteration!!\n"
     ]
    }
   ],
   "source": [
    "for word in string_a.split():\n",
    "    print(word)"
   ]
  },
  {
   "cell_type": "code",
   "execution_count": 14,
   "metadata": {},
   "outputs": [],
   "source": [
    "def num(n):\n",
    "    i=0\n",
    "    while i<n:\n",
    "        j=i\n",
    "        i=(i+1)\n",
    "        if j%7==0:\n",
    "            yield j\n",
    "#for i in reverse(100):\n",
    "    print (i)"
   ]
  },
  {
   "cell_type": "code",
   "execution_count": null,
   "metadata": {},
   "outputs": [],
   "source": [
    "netamt=50\n",
    "d=100\n",
    "w=200\n",
    "while True:\n",
    "    s=(d,w)\n",
    "    if not s:\n",
    "        break\n",
    "    values=s\n",
    "    operation=int(values[0])\n",
    "    amount =int(values[1])\n",
    "    if operation ==('d'):\n",
    "        netamt+=amount\n",
    "    elif operation==(\"W\"):\n",
    "        netamt = amount\n",
    "    else:\n",
    "        pass\n",
    "print (netamt)"
   ]
  },
  {
   "cell_type": "code",
   "execution_count": 17,
   "metadata": {},
   "outputs": [
    {
     "data": {
      "image/png": "[encoded data removed]",
      "text/plain": [
       "<Figure size 432x288 with 1 Axes>"
      ]
     },
     "metadata": {},
     "output_type": "display_data"
    }
   ],
   "source": [
    "#Business Challenge: BluEx is a leading logistics company in India. \n",
    "#It’s known for the efficient delivery of packets to customers. \n",
    "#However, BluEx is facing a challenge where its van drivers are taking a suboptimal path for delivery.\n",
    "#This is causing delays and higher fuel cost. You as ML expert have to create an ML model using \n",
    "#Reinforcement Learning so that efficient path is found through the program.\n",
    "\n",
    "#Key issues: Data has lots of attributes and classification could be tricky.\n",
    "#Business Benefits: Up to 15% of fuel cost can be saved by taking the optimal path\n",
    "\n",
    "import pylab as plt\n",
    "import networkx as nx\n",
    "\n",
    "#Initializing points\n",
    "points_list = [(0,1), (1,5), (5,6), (5,4), (1,2), (2,3), (2,7)]\n",
    "\n",
    "mapping={0:'Start', 1:'1', 2:'2', 3:'3', 4:'4', 5:'5', 6:'6', 7:'7-Destination'}\n",
    "G=nx.Graph()\n",
    "G.add_edges_from(points_list)\n",
    "pos = nx.spring_layout(G,k=.5,center=points_list[2])\n",
    "nx.draw_networkx_nodes(G,pos,node_color='g')\n",
    "nx.draw_networkx_edges(G,pos,edge_color='b')\n",
    "nx.draw_networkx_labels(G,pos)\n",
    "plt.show()"
   ]
  }
 ],
 "metadata": {
  "kernelspec": {
   "display_name": "Python 3",
   "language": "python",
   "name": "python3"
  },
  "language_info": {
   "codemirror_mode": {
    "name": "ipython",
    "version": 3
   },
   "file_extension": ".py",
   "mimetype": "text/x-python",
   "name": "python",
   "nbconvert_exporter": "python",
   "pygments_lexer": "ipython3",
   "version": "3.7.3"
  }
 },
 "nbformat": 4,
 "nbformat_minor": 4
}
